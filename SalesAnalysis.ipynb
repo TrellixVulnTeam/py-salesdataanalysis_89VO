{
 "cells": [
  {
   "cell_type": "code",
   "execution_count": 200,
   "id": "8c484ce0",
   "metadata": {},
   "outputs": [],
   "source": [
    "import pandas as pd\n",
    "import os\n",
    "import matplotlib.pyplot as mp\n",
    "\n",
    "from itertools import combinations\n",
    "from collections import Counter"
   ]
  },
  {
   "cell_type": "code",
   "execution_count": 11,
   "id": "14cc8347",
   "metadata": {},
   "outputs": [],
   "source": [
    "#importing and creating all csv to a single file"
   ]
  },
  {
   "cell_type": "code",
   "execution_count": 3,
   "id": "2922787e",
   "metadata": {},
   "outputs": [],
   "source": [
    "files_df = [pd.read_csv(f\"./Sales_Data/{file}\") for file in os.listdir('./Sales_Data')]\n",
    "merged_file = pd.DataFrame()\n",
    "\n",
    "for file in files_df:\n",
    "    merged_file = pd.concat([merged_file, file])\n",
    "\n",
    "merged_file.to_csv('total_sales.csv', index=False)"
   ]
  },
  {
   "cell_type": "code",
   "execution_count": 15,
   "id": "a600e563",
   "metadata": {},
   "outputs": [],
   "source": [
    "#reading all data csv and cleaning NaN"
   ]
  },
  {
   "cell_type": "code",
   "execution_count": 110,
   "id": "354adc15",
   "metadata": {},
   "outputs": [],
   "source": [
    "df = pd.read_csv(\"all_data.csv\")\n",
    "df = df.dropna(how=\"all\")\n",
    "#parse_dates does not work coz of unclean data"
   ]
  },
  {
   "cell_type": "code",
   "execution_count": null,
   "id": "0f7b6ec6",
   "metadata": {},
   "outputs": [],
   "source": [
    "#cleaning data "
   ]
  },
  {
   "cell_type": "code",
   "execution_count": 111,
   "id": "4984826a",
   "metadata": {},
   "outputs": [],
   "source": [
    "df.insert(5,'Month', df['Order Date'].str[0:2])\n",
    "df = df[df['Month'] != 'Or']\n",
    "df['Month'] = df['Month'].astype('int8')\n",
    "\n",
    "headers = list(df.columns.values)\n",
    "for h in headers:\n",
    "    df = df[df[h] != h]"
   ]
  },
  {
   "cell_type": "code",
   "execution_count": null,
   "id": "1c41f05a",
   "metadata": {},
   "outputs": [],
   "source": [
    "#creating a Sales column and finding the highest sales month"
   ]
  },
  {
   "cell_type": "code",
   "execution_count": 112,
   "id": "f17a508c",
   "metadata": {},
   "outputs": [
    {
     "data": {
      "text/html": [
       "<div>\n",
       "<style scoped>\n",
       "    .dataframe tbody tr th:only-of-type {\n",
       "        vertical-align: middle;\n",
       "    }\n",
       "\n",
       "    .dataframe tbody tr th {\n",
       "        vertical-align: top;\n",
       "    }\n",
       "\n",
       "    .dataframe thead th {\n",
       "        text-align: right;\n",
       "    }\n",
       "</style>\n",
       "<table border=\"1\" class=\"dataframe\">\n",
       "  <thead>\n",
       "    <tr style=\"text-align: right;\">\n",
       "      <th></th>\n",
       "      <th>Order ID</th>\n",
       "      <th>Product</th>\n",
       "      <th>Quantity Ordered</th>\n",
       "      <th>Price Each</th>\n",
       "      <th>Sales</th>\n",
       "      <th>Order Date</th>\n",
       "      <th>Month</th>\n",
       "      <th>Purchase Address</th>\n",
       "    </tr>\n",
       "  </thead>\n",
       "  <tbody>\n",
       "    <tr>\n",
       "      <th>0</th>\n",
       "      <td>176558</td>\n",
       "      <td>USB-C Charging Cable</td>\n",
       "      <td>2</td>\n",
       "      <td>11.95</td>\n",
       "      <td>23.90</td>\n",
       "      <td>04/19/19 08:46</td>\n",
       "      <td>4</td>\n",
       "      <td>917 1st St, Dallas, TX 75001</td>\n",
       "    </tr>\n",
       "    <tr>\n",
       "      <th>2</th>\n",
       "      <td>176559</td>\n",
       "      <td>Bose SoundSport Headphones</td>\n",
       "      <td>1</td>\n",
       "      <td>99.99</td>\n",
       "      <td>99.99</td>\n",
       "      <td>04/07/19 22:30</td>\n",
       "      <td>4</td>\n",
       "      <td>682 Chestnut St, Boston, MA 02215</td>\n",
       "    </tr>\n",
       "    <tr>\n",
       "      <th>3</th>\n",
       "      <td>176560</td>\n",
       "      <td>Google Phone</td>\n",
       "      <td>1</td>\n",
       "      <td>600</td>\n",
       "      <td>600.00</td>\n",
       "      <td>04/12/19 14:38</td>\n",
       "      <td>4</td>\n",
       "      <td>669 Spruce St, Los Angeles, CA 90001</td>\n",
       "    </tr>\n",
       "    <tr>\n",
       "      <th>4</th>\n",
       "      <td>176560</td>\n",
       "      <td>Wired Headphones</td>\n",
       "      <td>1</td>\n",
       "      <td>11.99</td>\n",
       "      <td>11.99</td>\n",
       "      <td>04/12/19 14:38</td>\n",
       "      <td>4</td>\n",
       "      <td>669 Spruce St, Los Angeles, CA 90001</td>\n",
       "    </tr>\n",
       "    <tr>\n",
       "      <th>5</th>\n",
       "      <td>176561</td>\n",
       "      <td>Wired Headphones</td>\n",
       "      <td>1</td>\n",
       "      <td>11.99</td>\n",
       "      <td>11.99</td>\n",
       "      <td>04/30/19 09:27</td>\n",
       "      <td>4</td>\n",
       "      <td>333 8th St, Los Angeles, CA 90001</td>\n",
       "    </tr>\n",
       "  </tbody>\n",
       "</table>\n",
       "</div>"
      ],
      "text/plain": [
       "  Order ID                     Product Quantity Ordered Price Each   Sales  \\\n",
       "0   176558        USB-C Charging Cable                2      11.95   23.90   \n",
       "2   176559  Bose SoundSport Headphones                1      99.99   99.99   \n",
       "3   176560                Google Phone                1        600  600.00   \n",
       "4   176560            Wired Headphones                1      11.99   11.99   \n",
       "5   176561            Wired Headphones                1      11.99   11.99   \n",
       "\n",
       "       Order Date  Month                      Purchase Address  \n",
       "0  04/19/19 08:46      4          917 1st St, Dallas, TX 75001  \n",
       "2  04/07/19 22:30      4     682 Chestnut St, Boston, MA 02215  \n",
       "3  04/12/19 14:38      4  669 Spruce St, Los Angeles, CA 90001  \n",
       "4  04/12/19 14:38      4  669 Spruce St, Los Angeles, CA 90001  \n",
       "5  04/30/19 09:27      4     333 8th St, Los Angeles, CA 90001  "
      ]
     },
     "execution_count": 112,
     "metadata": {},
     "output_type": "execute_result"
    }
   ],
   "source": [
    "df.insert(4, 'Sales', df['Quantity Ordered'].astype('int32') * df['Price Each'].astype('float'))\n",
    "df.head()"
   ]
  },
  {
   "cell_type": "code",
   "execution_count": 113,
   "id": "96f1a812",
   "metadata": {},
   "outputs": [
    {
     "data": {
      "text/html": [
       "<div>\n",
       "<style scoped>\n",
       "    .dataframe tbody tr th:only-of-type {\n",
       "        vertical-align: middle;\n",
       "    }\n",
       "\n",
       "    .dataframe tbody tr th {\n",
       "        vertical-align: top;\n",
       "    }\n",
       "\n",
       "    .dataframe thead th {\n",
       "        text-align: right;\n",
       "    }\n",
       "</style>\n",
       "<table border=\"1\" class=\"dataframe\">\n",
       "  <thead>\n",
       "    <tr style=\"text-align: right;\">\n",
       "      <th></th>\n",
       "      <th>Sales</th>\n",
       "    </tr>\n",
       "    <tr>\n",
       "      <th>Month</th>\n",
       "      <th></th>\n",
       "    </tr>\n",
       "  </thead>\n",
       "  <tbody>\n",
       "    <tr>\n",
       "      <th>1</th>\n",
       "      <td>1822256.73</td>\n",
       "    </tr>\n",
       "    <tr>\n",
       "      <th>2</th>\n",
       "      <td>2202022.42</td>\n",
       "    </tr>\n",
       "    <tr>\n",
       "      <th>3</th>\n",
       "      <td>2807100.38</td>\n",
       "    </tr>\n",
       "    <tr>\n",
       "      <th>4</th>\n",
       "      <td>3390670.24</td>\n",
       "    </tr>\n",
       "    <tr>\n",
       "      <th>5</th>\n",
       "      <td>3152606.75</td>\n",
       "    </tr>\n",
       "    <tr>\n",
       "      <th>6</th>\n",
       "      <td>2577802.26</td>\n",
       "    </tr>\n",
       "    <tr>\n",
       "      <th>7</th>\n",
       "      <td>2647775.76</td>\n",
       "    </tr>\n",
       "    <tr>\n",
       "      <th>8</th>\n",
       "      <td>2244467.88</td>\n",
       "    </tr>\n",
       "    <tr>\n",
       "      <th>9</th>\n",
       "      <td>2097560.13</td>\n",
       "    </tr>\n",
       "    <tr>\n",
       "      <th>10</th>\n",
       "      <td>3736726.88</td>\n",
       "    </tr>\n",
       "    <tr>\n",
       "      <th>11</th>\n",
       "      <td>3199603.20</td>\n",
       "    </tr>\n",
       "    <tr>\n",
       "      <th>12</th>\n",
       "      <td>4613443.34</td>\n",
       "    </tr>\n",
       "  </tbody>\n",
       "</table>\n",
       "</div>"
      ],
      "text/plain": [
       "            Sales\n",
       "Month            \n",
       "1      1822256.73\n",
       "2      2202022.42\n",
       "3      2807100.38\n",
       "4      3390670.24\n",
       "5      3152606.75\n",
       "6      2577802.26\n",
       "7      2647775.76\n",
       "8      2244467.88\n",
       "9      2097560.13\n",
       "10     3736726.88\n",
       "11     3199603.20\n",
       "12     4613443.34"
      ]
     },
     "execution_count": 113,
     "metadata": {},
     "output_type": "execute_result"
    }
   ],
   "source": [
    "sales_summary = df.groupby('Month').sum()\n",
    "sales_summary"
   ]
  },
  {
   "cell_type": "code",
   "execution_count": 114,
   "id": "d555458d",
   "metadata": {},
   "outputs": [
    {
     "data": {
      "image/png": "[encoded data removed]",
      "text/plain": [
       "<Figure size 432x288 with 1 Axes>"
      ]
     },
     "metadata": {
      "needs_background": "light"
     },
     "output_type": "display_data"
    }
   ],
   "source": [
    "mp.bar(range(1,13), sales_summary['Sales'])\n",
    "mp.xticks(range(1,13))\n",
    "mp.xlabel('Month')\n",
    "mp.ylabel('Sales in USD ($)')\n",
    "mp.show()\n",
    "\n",
    "#INFERENCE\n",
    "#The Month of December has the Highest sales record in terms of months"
   ]
  },
  {
   "cell_type": "code",
   "execution_count": null,
   "id": "d5e5c591",
   "metadata": {},
   "outputs": [],
   "source": [
    "#finding city that has highest sales"
   ]
  },
  {
   "cell_type": "code",
   "execution_count": 115,
   "id": "ccc85526",
   "metadata": {},
   "outputs": [],
   "source": [
    "df[\"City\"] = df['Purchase Address'].str.split(',').str[1] + df['Purchase Address'].str.split(',').str[2].str[0:3]"
   ]
  },
  {
   "cell_type": "code",
   "execution_count": 116,
   "id": "e87a4bb9",
   "metadata": {},
   "outputs": [
    {
     "data": {
      "text/html": [
       "<div>\n",
       "<style scoped>\n",
       "    .dataframe tbody tr th:only-of-type {\n",
       "        vertical-align: middle;\n",
       "    }\n",
       "\n",
       "    .dataframe tbody tr th {\n",
       "        vertical-align: top;\n",
       "    }\n",
       "\n",
       "    .dataframe thead th {\n",
       "        text-align: right;\n",
       "    }\n",
       "</style>\n",
       "<table border=\"1\" class=\"dataframe\">\n",
       "  <thead>\n",
       "    <tr style=\"text-align: right;\">\n",
       "      <th></th>\n",
       "      <th>Sales</th>\n",
       "      <th>Month</th>\n",
       "    </tr>\n",
       "    <tr>\n",
       "      <th>City</th>\n",
       "      <th></th>\n",
       "      <th></th>\n",
       "    </tr>\n",
       "  </thead>\n",
       "  <tbody>\n",
       "    <tr>\n",
       "      <th>Atlanta GA</th>\n",
       "      <td>2795498.58</td>\n",
       "      <td>104794.0</td>\n",
       "    </tr>\n",
       "    <tr>\n",
       "      <th>Austin TX</th>\n",
       "      <td>1819581.75</td>\n",
       "      <td>69829.0</td>\n",
       "    </tr>\n",
       "    <tr>\n",
       "      <th>Boston MA</th>\n",
       "      <td>3661642.01</td>\n",
       "      <td>141112.0</td>\n",
       "    </tr>\n",
       "    <tr>\n",
       "      <th>Dallas TX</th>\n",
       "      <td>2767975.40</td>\n",
       "      <td>104620.0</td>\n",
       "    </tr>\n",
       "    <tr>\n",
       "      <th>Los Angeles CA</th>\n",
       "      <td>5452570.80</td>\n",
       "      <td>208325.0</td>\n",
       "    </tr>\n",
       "    <tr>\n",
       "      <th>New York City NY</th>\n",
       "      <td>4664317.43</td>\n",
       "      <td>175741.0</td>\n",
       "    </tr>\n",
       "    <tr>\n",
       "      <th>Portland ME</th>\n",
       "      <td>449758.27</td>\n",
       "      <td>17144.0</td>\n",
       "    </tr>\n",
       "    <tr>\n",
       "      <th>Portland OR</th>\n",
       "      <td>1870732.34</td>\n",
       "      <td>70621.0</td>\n",
       "    </tr>\n",
       "    <tr>\n",
       "      <th>San Francisco CA</th>\n",
       "      <td>8262203.91</td>\n",
       "      <td>315520.0</td>\n",
       "    </tr>\n",
       "    <tr>\n",
       "      <th>Seattle WA</th>\n",
       "      <td>2747755.48</td>\n",
       "      <td>104941.0</td>\n",
       "    </tr>\n",
       "  </tbody>\n",
       "</table>\n",
       "</div>"
      ],
      "text/plain": [
       "                        Sales     Month\n",
       "City                                   \n",
       " Atlanta GA        2795498.58  104794.0\n",
       " Austin TX         1819581.75   69829.0\n",
       " Boston MA         3661642.01  141112.0\n",
       " Dallas TX         2767975.40  104620.0\n",
       " Los Angeles CA    5452570.80  208325.0\n",
       " New York City NY  4664317.43  175741.0\n",
       " Portland ME        449758.27   17144.0\n",
       " Portland OR       1870732.34   70621.0\n",
       " San Francisco CA  8262203.91  315520.0\n",
       " Seattle WA        2747755.48  104941.0"
      ]
     },
     "execution_count": 116,
     "metadata": {},
     "output_type": "execute_result"
    }
   ],
   "source": [
    "city_sales = df.groupby('City').sum()\n",
    "city_sales"
   ]
  },
  {
   "cell_type": "code",
   "execution_count": 117,
   "id": "80653d6c",
   "metadata": {},
   "outputs": [
    {
     "data": {
      "image/png": "[encoded data removed]",
      "text/plain": [
       "<Figure size 432x288 with 1 Axes>"
      ]
     },
     "metadata": {
      "needs_background": "light"
     },
     "output_type": "display_data"
    }
   ],
   "source": [
    "cities = [city for city, df in df.groupby('City')]\n",
    "\n",
    "mp.bar(cities, city_sales['Sales'])\n",
    "mp.xticks(cities, rotation='vertical')\n",
    "mp.xlabel('Cities')\n",
    "mp.ylabel('Sales in USD ($)')\n",
    "mp.show()\n",
    "\n",
    "#INFERENCE\n",
    "#San Francisco has highest number of sales in terms of cities"
   ]
  },
  {
   "cell_type": "code",
   "execution_count": null,
   "id": "38746f61",
   "metadata": {},
   "outputs": [],
   "source": [
    "#Do some hypothesis testing for sales data "
   ]
  },
  {
   "cell_type": "code",
   "execution_count": null,
   "id": "04608f6b",
   "metadata": {},
   "outputs": [],
   "source": [
    "#what is the peak hour sale to show AD to customers"
   ]
  },
  {
   "cell_type": "code",
   "execution_count": 118,
   "id": "a87e6e04",
   "metadata": {},
   "outputs": [],
   "source": [
    "df['Order Date'] = pd.to_datetime(df['Order Date'])"
   ]
  },
  {
   "cell_type": "code",
   "execution_count": 125,
   "id": "713d429d",
   "metadata": {},
   "outputs": [
    {
     "data": {
      "text/html": [
       "<div>\n",
       "<style scoped>\n",
       "    .dataframe tbody tr th:only-of-type {\n",
       "        vertical-align: middle;\n",
       "    }\n",
       "\n",
       "    .dataframe tbody tr th {\n",
       "        vertical-align: top;\n",
       "    }\n",
       "\n",
       "    .dataframe thead th {\n",
       "        text-align: right;\n",
       "    }\n",
       "</style>\n",
       "<table border=\"1\" class=\"dataframe\">\n",
       "  <thead>\n",
       "    <tr style=\"text-align: right;\">\n",
       "      <th></th>\n",
       "      <th>Order ID</th>\n",
       "      <th>Product</th>\n",
       "      <th>Quantity Ordered</th>\n",
       "      <th>Price Each</th>\n",
       "      <th>Sales</th>\n",
       "      <th>Order Date</th>\n",
       "      <th>Hour</th>\n",
       "      <th>Month</th>\n",
       "      <th>Purchase Address</th>\n",
       "      <th>City</th>\n",
       "    </tr>\n",
       "  </thead>\n",
       "  <tbody>\n",
       "    <tr>\n",
       "      <th>0</th>\n",
       "      <td>176558</td>\n",
       "      <td>USB-C Charging Cable</td>\n",
       "      <td>2</td>\n",
       "      <td>11.95</td>\n",
       "      <td>23.90</td>\n",
       "      <td>2019-04-19 08:46:00</td>\n",
       "      <td>8</td>\n",
       "      <td>4</td>\n",
       "      <td>917 1st St, Dallas, TX 75001</td>\n",
       "      <td>Dallas TX</td>\n",
       "    </tr>\n",
       "    <tr>\n",
       "      <th>2</th>\n",
       "      <td>176559</td>\n",
       "      <td>Bose SoundSport Headphones</td>\n",
       "      <td>1</td>\n",
       "      <td>99.99</td>\n",
       "      <td>99.99</td>\n",
       "      <td>2019-04-07 22:30:00</td>\n",
       "      <td>22</td>\n",
       "      <td>4</td>\n",
       "      <td>682 Chestnut St, Boston, MA 02215</td>\n",
       "      <td>Boston MA</td>\n",
       "    </tr>\n",
       "    <tr>\n",
       "      <th>3</th>\n",
       "      <td>176560</td>\n",
       "      <td>Google Phone</td>\n",
       "      <td>1</td>\n",
       "      <td>600</td>\n",
       "      <td>600.00</td>\n",
       "      <td>2019-04-12 14:38:00</td>\n",
       "      <td>14</td>\n",
       "      <td>4</td>\n",
       "      <td>669 Spruce St, Los Angeles, CA 90001</td>\n",
       "      <td>Los Angeles CA</td>\n",
       "    </tr>\n",
       "    <tr>\n",
       "      <th>4</th>\n",
       "      <td>176560</td>\n",
       "      <td>Wired Headphones</td>\n",
       "      <td>1</td>\n",
       "      <td>11.99</td>\n",
       "      <td>11.99</td>\n",
       "      <td>2019-04-12 14:38:00</td>\n",
       "      <td>14</td>\n",
       "      <td>4</td>\n",
       "      <td>669 Spruce St, Los Angeles, CA 90001</td>\n",
       "      <td>Los Angeles CA</td>\n",
       "    </tr>\n",
       "    <tr>\n",
       "      <th>5</th>\n",
       "      <td>176561</td>\n",
       "      <td>Wired Headphones</td>\n",
       "      <td>1</td>\n",
       "      <td>11.99</td>\n",
       "      <td>11.99</td>\n",
       "      <td>2019-04-30 09:27:00</td>\n",
       "      <td>9</td>\n",
       "      <td>4</td>\n",
       "      <td>333 8th St, Los Angeles, CA 90001</td>\n",
       "      <td>Los Angeles CA</td>\n",
       "    </tr>\n",
       "  </tbody>\n",
       "</table>\n",
       "</div>"
      ],
      "text/plain": [
       "  Order ID                     Product Quantity Ordered Price Each   Sales  \\\n",
       "0   176558        USB-C Charging Cable                2      11.95   23.90   \n",
       "2   176559  Bose SoundSport Headphones                1      99.99   99.99   \n",
       "3   176560                Google Phone                1        600  600.00   \n",
       "4   176560            Wired Headphones                1      11.99   11.99   \n",
       "5   176561            Wired Headphones                1      11.99   11.99   \n",
       "\n",
       "           Order Date  Hour  Month                      Purchase Address  \\\n",
       "0 2019-04-19 08:46:00     8      4          917 1st St, Dallas, TX 75001   \n",
       "2 2019-04-07 22:30:00    22      4     682 Chestnut St, Boston, MA 02215   \n",
       "3 2019-04-12 14:38:00    14      4  669 Spruce St, Los Angeles, CA 90001   \n",
       "4 2019-04-12 14:38:00    14      4  669 Spruce St, Los Angeles, CA 90001   \n",
       "5 2019-04-30 09:27:00     9      4     333 8th St, Los Angeles, CA 90001   \n",
       "\n",
       "              City  \n",
       "0        Dallas TX  \n",
       "2        Boston MA  \n",
       "3   Los Angeles CA  \n",
       "4   Los Angeles CA  \n",
       "5   Los Angeles CA  "
      ]
     },
     "execution_count": 125,
     "metadata": {},
     "output_type": "execute_result"
    }
   ],
   "source": [
    "# df.insert(6, 'Hour', df['Order Date'].dt.hour)\n",
    "# df.insert(7, 'Minute', df['Order Date'].dt.minute)\n",
    "df.drop('Minute', inplace=True, axis=1)\n",
    "df.head()"
   ]
  },
  {
   "cell_type": "code",
   "execution_count": 127,
   "id": "24a81969",
   "metadata": {},
   "outputs": [
    {
     "data": {
      "image/png": "[encoded data removed]",
      "text/plain": [
       "<Figure size 432x288 with 1 Axes>"
      ]
     },
     "metadata": {
      "needs_background": "light"
     },
     "output_type": "display_data"
    }
   ],
   "source": [
    "grp = df.groupby('Hour').count()\n",
    "\n",
    "hours = [hour for hour, df in df.groupby('Hour')]\n",
    "\n",
    "mp.plot(hours, grp)\n",
    "mp.xticks(hours)\n",
    "mp.xlabel('Hours')\n",
    "mp.ylabel('Number of purchase')\n",
    "mp.grid()\n",
    "mp.show()\n",
    "\n",
    "\n",
    "#INFERENCE\n",
    "#Most purchases are done during the hours of 11AM-1PM and 5PM-7PM.\n",
    "#Showing ADS just before this time would be the ideal decision."
   ]
  },
  {
   "cell_type": "code",
   "execution_count": null,
   "id": "b82cc6c7",
   "metadata": {},
   "outputs": [],
   "source": [
    "#What products are sold together most often?"
   ]
  },
  {
   "cell_type": "code",
   "execution_count": 211,
   "id": "1c88c556",
   "metadata": {},
   "outputs": [
    {
     "name": "stderr",
     "output_type": "stream",
     "text": [
      "/tmp/ipykernel_439541/3064380924.py:2: SettingWithCopyWarning: \n",
      "A value is trying to be set on a copy of a slice from a DataFrame.\n",
      "Try using .loc[row_indexer,col_indexer] = value instead\n",
      "\n",
      "See the caveats in the documentation: https://pandas.pydata.org/pandas-docs/stable/user_guide/indexing.html#returning-a-view-versus-a-copy\n",
      "  fdf['Single List'] = fdf.groupby('Order ID')['Product'].transform(lambda x: ','.join(x))\n"
     ]
    }
   ],
   "source": [
    "fdf = df[df['Order ID'].duplicated(keep=False)]\n",
    "fdf['Single List'] = fdf.groupby('Order ID')['Product'].transform(lambda x: ','.join(x))"
   ]
  },
  {
   "cell_type": "code",
   "execution_count": 212,
   "id": "92a25117",
   "metadata": {},
   "outputs": [],
   "source": [
    "#removing the duplicates by comparing the value to the rows above\n",
    "fdf = fdf[fdf['Order ID'] != fdf['Order ID'].shift(-1)]"
   ]
  },
  {
   "cell_type": "code",
   "execution_count": 215,
   "id": "f71d457c",
   "metadata": {},
   "outputs": [
    {
     "name": "stdout",
     "output_type": "stream",
     "text": [
      "Top 10 Most Common sold pair of items are \n",
      "\n",
      "iPhone,Lightning Charging Cable : 1005\n",
      "Google Phone,USB-C Charging Cable : 987\n",
      "iPhone,Wired Headphones : 447\n",
      "Google Phone,Wired Headphones : 414\n",
      "Vareebadd Phone,USB-C Charging Cable : 361\n",
      "iPhone,Apple Airpods Headphones : 360\n",
      "Google Phone,Bose SoundSport Headphones : 220\n",
      "USB-C Charging Cable,Wired Headphones : 160\n",
      "Vareebadd Phone,Wired Headphones : 143\n",
      "Lightning Charging Cable,Wired Headphones : 92\n"
     ]
    }
   ],
   "source": [
    "counter = Counter()\n",
    "\n",
    "for row in fdf['Single List']:\n",
    "    row_items = row.split(',')\n",
    "    counter.update(Counter(combinations(row_items, 2)))\n",
    "\n",
    "print('Top 10 Most Common sold pair of items are \\n')\n",
    "for items, count in counter.most_common(10):\n",
    "    print(f'{items[0]},{items[1]} : {count}')\n",
    "    \n",
    "#INFERENCE\n",
    "#iphone and Lighning Charging Cables are most often purchased in pairs"
   ]
  },
  {
   "cell_type": "code",
   "execution_count": null,
   "id": "7712cf76",
   "metadata": {},
   "outputs": [],
   "source": [
    "# Products that are most sold during holidays"
   ]
  },
  {
   "cell_type": "code",
   "execution_count": null,
   "id": "63931f68",
   "metadata": {},
   "outputs": [],
   "source": []
  },
  {
   "cell_type": "code",
   "execution_count": null,
   "id": "b7b5de99",
   "metadata": {},
   "outputs": [],
   "source": []
  },
  {
   "cell_type": "code",
   "execution_count": null,
   "id": "49f28ee8",
   "metadata": {},
   "outputs": [],
   "source": []
  },
  {
   "cell_type": "code",
   "execution_count": null,
   "id": "735d42c6",
   "metadata": {},
   "outputs": [],
   "source": []
  },
  {
   "cell_type": "code",
   "execution_count": null,
   "id": "392740d1",
   "metadata": {},
   "outputs": [],
   "source": []
  },
  {
   "cell_type": "code",
   "execution_count": null,
   "id": "c6956bf9",
   "metadata": {},
   "outputs": [],
   "source": []
  },
  {
   "cell_type": "code",
   "execution_count": null,
   "id": "867e91bc",
   "metadata": {},
   "outputs": [],
   "source": []
  },
  {
   "cell_type": "code",
   "execution_count": null,
   "id": "80c365dc",
   "metadata": {},
   "outputs": [],
   "source": []
  },
  {
   "cell_type": "code",
   "execution_count": null,
   "id": "05ffc29a",
   "metadata": {},
   "outputs": [],
   "source": []
  },
  {
   "cell_type": "code",
   "execution_count": null,
   "id": "70243fdb",
   "metadata": {},
   "outputs": [],
   "source": []
  }
 ],
 "metadata": {
  "kernelspec": {
   "display_name": "venvkernel",
   "language": "python",
   "name": "venvkernel"
  },
  "language_info": {
   "codemirror_mode": {
    "name": "ipython",
    "version": 3
   },
   "file_extension": ".py",
   "mimetype": "text/x-python",
   "name": "python",
   "nbconvert_exporter": "python",
   "pygments_lexer": "ipython3",
   "version": "3.10.4"
  }
 },
 "nbformat": 4,
 "nbformat_minor": 5
}
